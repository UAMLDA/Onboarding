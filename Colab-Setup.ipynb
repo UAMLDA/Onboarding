{
 "cells": [
  {
   "cell_type": "markdown",
   "metadata": {},
   "source": [
    "# Setting up Google Colab and Github \r\n",
    "\r\n",
    "Google Colab is a cheap cloud-based computing tool that is quite useful for running code that require access to a GPU or high memory. This is particularly convenient when you do not have enough RAM or a GPU on your computer; however, you know that the code would take less than 24hrs to run if you had access to these resourcesud. \r\n"
   ]
  },
  {
   "cell_type": "markdown",
   "metadata": {},
   "source": [
    "# Setting up Github and Google Colab \r\n",
    "\r\n",
    "Begin by creating a Github account if you do not already have one. Once you have an account go to `Settings -> Developer Settings` then create a new `Personal Access Token`. Do not share this token with anyone and do not forget it. If the latter happens then you will need to generate another token. Once you have the token created then you should create a new folder in your Google Drive where you want to clone and work with the Git repos. I named my folder `Git/` and I will use it throughout this tutorial. In `Git/` create a new Colab notebook called `Github-Clone.ipynb` (or whatever you want to call it). This note book should have three cells shown below. Note that in these cells you want to change the variables `GIT_REPOSITORY` to the name of the repository you want to clone, `GIT_USERNAME` to your github user name, and `GIT_TOKEN` to your personal access token. **Note, never push this file to Github because it has your personal access token and could be very costly!**"
   ]
  },
  {
   "cell_type": "code",
   "execution_count": null,
   "metadata": {},
   "outputs": [],
   "source": [
    "from google.colab import drive\r\n",
    "drive.mount('/content/gdrive')"
   ]
  },
  {
   "cell_type": "code",
   "execution_count": null,
   "metadata": {},
   "outputs": [],
   "source": [
    "from os.path import join  \r\n",
    "\r\n",
    "# Replace with your github repository in this case we want \r\n",
    "# to clone deep-learning-v2-pytorch repository\r\n",
    "GIT_REPOSITORY = \"REPO\" \r\n",
    "# path to your project on Google Drive\r\n",
    "MY_GOOGLE_DRIVE_PATH = '/content/gdrive/MyDrive/Git' \r\n",
    "# replace with your Github username \r\n",
    "GIT_USERNAME = \"NAME\" \r\n",
    "# definitely replace with your\r\n",
    "GIT_TOKEN = \"TOKEN\"  \r\n",
    "\r\n",
    "PROJECT_PATH = join(MY_GOOGLE_DRIVE_PATH)\r\n",
    "\r\n",
    "# It's good to print out the value if you are not sure \r\n",
    "print(\"PROJECT_PATH: \", PROJECT_PATH)   \r\n",
    "\r\n",
    "# In case we haven't created the folder already; we will create a folder in the project path \r\n",
    "# !mkdir \"{PROJECT_PATH}\"    \r\n",
    "\r\n",
    "#GIT_PATH = \"https://{GIT_TOKEN}@github.com/{GIT_USERNAME}/{GIT_REPOSITORY}.git\" this return 400 Bad Request for me\r\n",
    "GIT_PATH = \"https://\" + GIT_TOKEN + \"@github.com/\" + GIT_USERNAME + \"/\" + GIT_REPOSITORY + \".git\"\r\n",
    "print(\"GIT_PATH: \", GIT_PATH)"
   ]
  },
  {
   "cell_type": "code",
   "execution_count": null,
   "metadata": {},
   "outputs": [],
   "source": [
    "%cd /content/gdrive/MyDrive/Git"
   ]
  },
  {
   "cell_type": "code",
   "execution_count": null,
   "metadata": {},
   "outputs": [],
   "source": [
    "!git clone \"{GIT_PATH}\" # clone the github repository"
   ]
  },
  {
   "cell_type": "markdown",
   "metadata": {},
   "source": [
    "You should see a new folder in `Git/` with the repo that you just cloned. "
   ]
  }
 ],
 "metadata": {
  "kernelspec": {
   "display_name": "Python 3 (ipykernel)",
   "language": "python",
   "name": "python3"
  },
  "language_info": {
   "codemirror_mode": {
    "name": "ipython",
    "version": 3
   },
   "file_extension": ".py",
   "mimetype": "text/x-python",
   "name": "python",
   "nbconvert_exporter": "python",
   "pygments_lexer": "ipython3",
   "version": "3.9.16"
  }
 },
 "nbformat": 4,
 "nbformat_minor": 4
}
