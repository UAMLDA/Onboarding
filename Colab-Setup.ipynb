{
 "cells": [
  {
   "cell_type": "markdown",
   "source": [
    "# Setting up Google Colab, Visual Studio Code and Github \r\n",
    "\r\n",
    "Google Colab is a cheap cloud-based computing tool that is quite useful for running code that require access to a GPU or high memory. This is particularly convenient when you do not have enough RAM or a GPU on your computer; however, you know that the code would take less than 24hrs to run if you had access to these resources. Visual Studio Code is a great IDE for developing and debugging code. VS Code will even allow you to connect to a remove location (e.g., Microsoft Azure, AWS or Google Cloud) then you can run and debug your code directly from the IDE. While remote connection with VS Code is very useful, it is not quite as straighforward to use VS Code on a cheap service such as Google Colab. Further, Github is extremely useful for tracking the development of code; however, the integration with Google Colab is OK and limited in some of the functionality. For example, it might be easy to run a notebook from a Github Repo, but doing the software development for the code that is running is a bit more challenging without the power of an IDE such as VS Code. Finally, Google Colab makes it easy to run and edit Jupyter notebooks books but actually developing code and Python packages is not as easy to do without a little bit of help.  \r\n",
    "\r\n",
    "The purpose of this tutoral is to show you how to set up a computing environemnt on Google Colab that integrates VS Code and Github. We regularly use Google Colab, Visual Studio Code and Github, so having the functionality of all three working together is extremely important in developing a software development pipeline that integrates easily with the Colab cloud. \r\n"
   ],
   "metadata": {}
  },
  {
   "cell_type": "markdown",
   "source": [
    "# Setting up Github and Google Colab \r\n",
    "\r\n",
    "Begin by creating a Github account if you do not already have one. Once you have an account go to `Settings -> Developer Settings` then create a new `Personal Access Token`. Do not share this token with anyone and do not forget it. If the latter happens then you will need to generate another token. Once you have the token created then you should create a new folder in your Google Drive where you want to clone and work with the Git repos. I named my folder `Git/` and I will use it throughout this tutorial. In `Git/` create a new Colab notebook called `Github-Clone.ipynb` (or whatever you want to call it). This note book should have three cells shown below. Note that in these cells you want to change the variables `GIT_REPOSITORY` to the name of the repository you want to clone, `GIT_USERNAME` to your github user name, and `GIT_TOKEN` to your personal access token. **Note, never push this file to Github because it has your personal access token and could be very costly!**"
   ],
   "metadata": {}
  },
  {
   "cell_type": "code",
   "execution_count": null,
   "source": [
    "from google.colab import drive\r\n",
    "drive.mount('/content/gdrive')"
   ],
   "outputs": [],
   "metadata": {}
  },
  {
   "cell_type": "code",
   "execution_count": null,
   "source": [
    "from os.path import join  \r\n",
    "\r\n",
    "# Replace with your github repository in this case we want \r\n",
    "# to clone deep-learning-v2-pytorch repository\r\n",
    "GIT_REPOSITORY = \"REPO\" \r\n",
    "# path to your project on Google Drive\r\n",
    "MY_GOOGLE_DRIVE_PATH = '/content/gdrive/MyDrive/Git' \r\n",
    "# replace with your Github username \r\n",
    "GIT_USERNAME = \"NAME\" \r\n",
    "# definitely replace with your\r\n",
    "GIT_TOKEN = \"TOKEN\"  \r\n",
    "\r\n",
    "PROJECT_PATH = join(MY_GOOGLE_DRIVE_PATH)\r\n",
    "\r\n",
    "# It's good to print out the value if you are not sure \r\n",
    "print(\"PROJECT_PATH: \", PROJECT_PATH)   \r\n",
    "\r\n",
    "# In case we haven't created the folder already; we will create a folder in the project path \r\n",
    "# !mkdir \"{PROJECT_PATH}\"    \r\n",
    "\r\n",
    "#GIT_PATH = \"https://{GIT_TOKEN}@github.com/{GIT_USERNAME}/{GIT_REPOSITORY}.git\" this return 400 Bad Request for me\r\n",
    "GIT_PATH = \"https://\" + GIT_TOKEN + \"@github.com/\" + GIT_USERNAME + \"/\" + GIT_REPOSITORY + \".git\"\r\n",
    "print(\"GIT_PATH: \", GIT_PATH)"
   ],
   "outputs": [],
   "metadata": {}
  },
  {
   "cell_type": "code",
   "execution_count": null,
   "source": [
    "%cd /content/gdrive/MyDrive/Git"
   ],
   "outputs": [],
   "metadata": {}
  },
  {
   "cell_type": "code",
   "execution_count": null,
   "source": [
    "!git clone \"{GIT_PATH}\" # clone the github repository"
   ],
   "outputs": [],
   "metadata": {}
  },
  {
   "cell_type": "markdown",
   "source": [
    "You should see a new folder in `Git/` with the repo that you just cloned. Now that you have a Git repo in you Google Drive you're now ready to set up VS Code. "
   ],
   "metadata": {}
  },
  {
   "cell_type": "markdown",
   "source": [
    "# Setting up VS Code and Google Colab \r\n",
    "\r\n",
    "Create a new notebook in `Git/` named `VS-Code.ipynb` then open the notebook in Google Colab. Add the two cells into the notebook. The first cell is going to install Colab Code which will allow you to open up VS code within Google Colab. After you install the `colabcode` package, you will be asked to restart the environment. Resart the environment then execute the other cell in the notebook (no need to run `pip` again once it was restarted). You will see a web address that will open a new tab then open VS Code in that tab! Now you're good to go! You can use VS Code as you normally would use it; however, you're now running it on Google Colab. Note that the runtime you choose for `VS-Code.ipynb` will be the runtime which you're using VS code. That is, if you want a GPU then `VS-Code.ipynb` needs to be configured to use a  GPU. You should not use a GPU for development of code. The GPUs should only be used when you're running code that uses a GPU. Google tends not to like folks allocating GPUs and not using them. Same is true for TPU and high memory nodes. "
   ],
   "metadata": {}
  },
  {
   "cell_type": "code",
   "execution_count": null,
   "source": [
    "!pip install colabcode"
   ],
   "outputs": [],
   "metadata": {}
  },
  {
   "cell_type": "code",
   "execution_count": null,
   "source": [
    "from colabcode import ColabCode\r\n",
    "ColabCode(port=10000)"
   ],
   "outputs": [],
   "metadata": {}
  }
 ],
 "metadata": {
  "orig_nbformat": 4,
  "language_info": {
   "name": "python"
  }
 },
 "nbformat": 4,
 "nbformat_minor": 2
}